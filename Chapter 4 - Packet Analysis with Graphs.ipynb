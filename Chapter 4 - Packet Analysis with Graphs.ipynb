{
 "cells": [
  {
   "cell_type": "markdown",
   "metadata": {},
   "source": [
    "# Packet analysis with Scapy and NetworkX\n",
    "\n",
    "This notebook accompanies Chapter 2, Project 1: Build a network graph from packets \"<i>Programming Applied Mathematics for Security</i>\". This material will cover additional analysis not presented in the book project for space reasons.\n",
    "\n",
    "To follow along you must have the network_sim.pcap uncompressed in the same location as the notebook."
   ]
  },
  {
   "cell_type": "code",
   "execution_count": 1,
   "metadata": {},
   "outputs": [],
   "source": [
    "# -*- coding: utf-8 -*-\n",
    "import networkx as nx\n",
    "from matplotlib import pyplot as plt\n",
    "import graph_funcs as hlp\n",
    "from colour import Color"
   ]
  },
  {
   "cell_type": "markdown",
   "metadata": {},
   "source": [
    "We load the file and organize it based off of MAC address of the NIC card. This allows for the possibility of machines changing I.P. addresses."
   ]
  },
  {
   "cell_type": "code",
   "execution_count": 2,
   "metadata": {},
   "outputs": [
    {
     "name": "stdout",
     "output_type": "stream",
     "text": [
      "139873 packets\n",
      "80 unique MACs\n"
     ]
    }
   ],
   "source": [
    "mdG = hlp.file_to_graph(\"network_sim.pcap\") # MultiDiGraph\n",
    "print(\"%d packets\" % len(mdG.edges))\n",
    "print(\"%d unique MACs\" % len(mdG.nodes))"
   ]
  },
  {
   "cell_type": "markdown",
   "metadata": {},
   "source": [
    "<p>Now we have a weighted, multi-edged, directed graph where each vertex is a machine and each edge is a packet which traveled from the source IP:Port to the destination IP:Port. We can examine all HTTP traffic across port 80 by getting a protocol subgraph. From the book's description we know that the protocol for node <i>u</i> is equal to the intersection of edges of the desired protocol, destined for the node in questione </p><p>HTTP = E (&psi;<sub>80</sub>) &cup; E(u &larr;)</p>"
   ]
  },
  {
   "cell_type": "code",
   "execution_count": 3,
   "metadata": {},
   "outputs": [
    {
     "name": "stdout",
     "output_type": "stream",
     "text": [
      "('1c:6a:7a:0e:e0:41', 592)\n"
     ]
    }
   ],
   "source": [
    "def protocol_subgraph(G, port):\n",
    "    \"\"\"Return a subgraph of G, filtered by the destination port\"\"\"\n",
    "    proto_edges = [(u,v,d) for u,v,d in G.edges(data=True) if d[\"dport\"] == port]\n",
    "    if len(proto_edges) < 1:\n",
    "        return None\n",
    "    sub_graph = nx.DiGraph()\n",
    "    sub_graph.add_edges_from(proto_edges)\n",
    "    return sub_graph\n",
    "\n",
    "dG = protocol_subgraph(mdG, 80)\n",
    "out_deg = dG.out_degree(weight='weight')\n",
    "sorted_deg = sorted(out_deg, key=lambda x: (x[1], x[0]), reverse=True)\n",
    "print(sorted_deg[0])"
   ]
  },
  {
   "cell_type": "code",
   "execution_count": 4,
   "metadata": {},
   "outputs": [
    {
     "name": "stdout",
     "output_type": "stream",
     "text": [
      "80 ('1c:6a:7a:0e:e0:41', 592)\n",
      "2503 ('00:26:9e:3d:00:2a', 949)\n",
      "55553 ('1c:6a:7a:0e:e0:41', 52)\n",
      "443 ('00:0c:29:ac:42:4b', 678)\n"
     ]
    }
   ],
   "source": [
    "psi = [80, 2503, 55553, 443]\n",
    "for proto in psi:\n",
    "    dG = protocol_subgraph(mdG, proto)\n",
    "    out_deg = dG.out_degree(weight='weight')\n",
    "    sorted_deg = sorted(out_deg, key=lambda x: (x[1], x[0]), reverse=True)\n",
    "    print(proto, sorted_deg[0])"
   ]
  },
  {
   "cell_type": "code",
   "execution_count": 5,
   "metadata": {},
   "outputs": [],
   "source": [
    "def label_set(G):\n",
    "    \"\"\"Create shortened label set (last 3 octets of MAC address)\n",
    "    e.g. a1:b2:c3\"\"\"\n",
    "    return {l:l[-8:] for l in G.nodes()}  # Dict Comprehension to create \n",
    "import numpy as np\n",
    "from scipy import stats\n",
    "protoG = protocol_subgraph(mdG, 80)\n",
    "in_deg = protoG.in_degree(weight='weight')\n",
    "in_deg= sorted(in_deg, key=lambda x: (x[1], x[0]))\n",
    "scores = np.array([v[1] for v in in_deg])\n",
    "z_thresh = stats.norm.ppf(0.95) # Confidence in denoting outliers\n",
    "in_degree_z = stats.zscore(scores)\n",
    "win_id = in_deg[in_degree_z.argmax()][0]\n",
    "outlier_idx = list(np.where(in_degree_z > z_thresh)[0])\n",
    "outlier_nodes = []\n",
    "normal_nodes = []\n",
    "for i in range(len(in_deg)):\n",
    "    node_id = in_deg[i][0]\n",
    "    if i in outlier_idx:\n",
    "        outlier_nodes.append(node_id)\n",
    "    else:\n",
    "        normal_nodes.append(node_id)\n",
    "nx.set_node_attributes(protoG, in_deg, \"in_deg\")"
   ]
  },
  {
   "cell_type": "code",
   "execution_count": 6,
   "metadata": {},
   "outputs": [
    {
     "data": {
      "text/plain": [
       "['7c:ad:74:c2:a9:a2', '1c:6a:7a:0e:e0:4e']"
      ]
     },
     "execution_count": 6,
     "metadata": {},
     "output_type": "execute_result"
    }
   ],
   "source": [
    "b = [in_deg[i][0] for i in range(len(in_deg)) if i in outlier_idx]\n",
    "b"
   ]
  },
  {
   "cell_type": "code",
   "execution_count": 7,
   "metadata": {},
   "outputs": [
    {
     "data": {
      "image/png": "[encoded data removed]",
      "text/plain": [
       "<Figure size 432x288 with 1 Axes>"
      ]
     },
     "metadata": {},
     "output_type": "display_data"
    }
   ],
   "source": [
    "labels = label_set(protoG)\n",
    "labels = {k : labels[k] if k in outlier_nodes else \"\" for k,v in list(in_deg)}\n",
    "pos_dict = nx.shell_layout(protoG)\n",
    "pos_dict\n",
    "\n",
    "# create generator\n",
    "norm_pos = {n:pos_dict[n] for n in normal_nodes}\n",
    "outlier_pos = {n:pos_dict[n] for n in outlier_nodes}\n",
    "#print(outlier_pos)\n",
    "\n",
    "plt.text(outlier_pos[win_id][0]+0.5,outlier_pos[win_id][1]+0.3,s=win_id, bbox=dict(facecolor='red', alpha=0.25),horizontalalignment='center')\n",
    "nx.draw_networkx_nodes(protoG, pos=norm_pos, nodelist=normal_nodes, node_size=60, alpha=0.4)\n",
    "nx.draw_networkx_nodes(protoG, pos=outlier_pos, nodelist=outlier_nodes, node_shape='d', node_color='r')\n",
    "nx.draw_networkx_edges(protoG, pos=pos_dict)\n",
    "plt.tight_layout()\n",
    "plt.savefig(\"Figure_4-4.svg\", format=\"svg\")\n",
    "plt.savefig(\"Figure_4-4.png\")"
   ]
  },
  {
   "cell_type": "code",
   "execution_count": null,
   "metadata": {},
   "outputs": [],
   "source": [
    "print(outlier_nodes)"
   ]
  },
  {
   "cell_type": "markdown",
   "metadata": {},
   "source": [
    "We can investigate which nodes have multiple IP addresses in the data sample. There are a number of reasons a MAC address may be assigned different I.P. addresses. One reason would be spoofing the source address for a packet. This is a common technique for attackers using a blind exploit. Another more innocent reason would be a machine which is logged off and then issued a new I.P. when it logs on. This would happen if the DHCP server released the I.P. to another machine which appeared in the interim."
   ]
  },
  {
   "cell_type": "code",
   "execution_count": null,
   "metadata": {},
   "outputs": [],
   "source": [
    "multi_ips = {}\n",
    "for u in mdG.nodes.keys():\n",
    "    ips_unique = []\n",
    "    edges = mdG.out_edges(u, data=True)\n",
    "    for u2,v,data in edges:\n",
    "        if data[\"ip_src\"] not in ips_unique:\n",
    "            ips_unique.append(data[\"ip_src\"])\n",
    "    if len(ips_unique) > 1:\n",
    "        #print(ips_unique[-5:])\n",
    "        multi_ips[u] = ips_unique\n",
    "for k in multi_ips.keys():\n",
    "    print(\"%s had %d I.P.s\" % (k, len(multi_ips[k])))\n",
    "    \n"
   ]
  },
  {
   "cell_type": "markdown",
   "metadata": {},
   "source": [
    "We can grab all the packets generated from a given MAC address by collecting all the outbound edges of the node associated with that MAC."
   ]
  },
  {
   "cell_type": "code",
   "execution_count": null,
   "metadata": {},
   "outputs": [],
   "source": [
    "edges = mdG.out_edges(\"1c:6a:7a:0e:e0:44\", data=True)\n",
    "sdG = nx.MultiDiGraph()\n",
    "sdG.add_edges_from(edges)\n",
    "pos = nx.shell_layout(sdG)"
   ]
  },
  {
   "cell_type": "code",
   "execution_count": null,
   "metadata": {},
   "outputs": [],
   "source": [
    "fig = plt.figure(1, figsize=(12, 8), dpi=70)\n",
    "nx.draw_networkx_nodes(sdG, pos, alpha=0.5)\n",
    "nx.draw_networkx_edges(sdG, pos)\n",
    "nx.draw_networkx_labels(sdG, pos)\n",
    "plt.tight_layout()\n",
    "plt.savefig(\"/home/dreilly/Desktop/Applied_Data_Science/Book_Resources/Chapter 4 - Network Graph/Figure_4-5.svg\", format=\"svg\")\n",
    "plt.savefig(\"/home/dreilly/Desktop/Applied_Data_Science/Book_Resources/Chapter 4 - Network Graph/Figure_4-5.png\")"
   ]
  },
  {
   "cell_type": "markdown",
   "metadata": {},
   "source": [
    "# Information Exchange Ratio\n",
    "The next two cell demonstrates the Information Exchange Ratio function from the book. The first simply returns the node with the highest IER score"
   ]
  },
  {
   "cell_type": "code",
   "execution_count": null,
   "metadata": {},
   "outputs": [],
   "source": [
    "ier_scores = hlp.exchange_ratios(mdG)\n",
    "u, score = ier_scores[-1] # Locates the highest overall\n",
    "print(u, score)"
   ]
  },
  {
   "cell_type": "markdown",
   "metadata": {},
   "source": [
    "The next cell finds outliers using a 99% confidence threshold and a one-tailed z-score test similar to before"
   ]
  },
  {
   "cell_type": "code",
   "execution_count": null,
   "metadata": {},
   "outputs": [],
   "source": [
    "ier_scores = hlp.exchange_ratios(mdG)\n",
    "z_thresh = round(stats.norm.ppf(0.99),3) # Confidence in denoting outliers\n",
    "print(f\"Using Standard Deviation threshold: {z_thresh}\")\n",
    "ier_z = stats.zscore([s[1] for s in ier_scores] )\n",
    "outlier_idx = list(np.where(ier_z > z_thresh)[0]) # One tailed test\n",
    "ier_outliers = [ier_scores[i] for i in outlier_idx]\n",
    "print(ier_outliers)"
   ]
  },
  {
   "cell_type": "markdown",
   "metadata": {},
   "source": [
    "# Saving and loading graphs\n",
    "To save time on future analysis you can save the graph you've created using the write_weighted_edgelist function. This will create a file which retains the structure of the graph including the weight values for each edge."
   ]
  },
  {
   "cell_type": "code",
   "execution_count": null,
   "metadata": {},
   "outputs": [],
   "source": [
    "nx.write_weighted_edgelist(mdG, \"sniff_out.edges\")"
   ]
  },
  {
   "cell_type": "markdown",
   "metadata": {},
   "source": [
    "You can reload the file into a graph using the inverse function read_weighted_edgelist on the previously created file. In this case we need to tell NetworkX to create the graph using the DiGraph class"
   ]
  },
  {
   "cell_type": "code",
   "execution_count": null,
   "metadata": {},
   "outputs": [],
   "source": [
    "fileG = nx.read_weighted_edgelist(\"sniff_out.edges\", create_using=nx.DiGraph)"
   ]
  },
  {
   "cell_type": "markdown",
   "metadata": {},
   "source": [
    "You can then treat the loaded graph the same as before, calling any functions that would be valid on a DiGraph object"
   ]
  },
  {
   "cell_type": "code",
   "execution_count": null,
   "metadata": {},
   "outputs": [],
   "source": [
    "import matplotlib.pyplot as plt\n",
    "# create number for each group to allow use of colormap\n",
    "from itertools import count\n",
    "# get unique groups\n",
    "groups = set(nx.get_node_attributes(protoG,'group').values())\n",
    "mapping = dict(zip(sorted(groups),count()))\n",
    "nodes = fileG.nodes()\n",
    "# drawing nodes and edges separately so we can capture collection for colobar\n",
    "pos = nx.shell_layout(fileG)\n",
    "ec = nx.draw_networkx_edges(fileG, pos, alpha=0.2)\n",
    "nc = nx.draw_networkx_nodes(fileG, pos, nodelist=nodes, \n",
    "                            node_size=100, cmap=plt.cm.jet)\n",
    "plt.colorbar(nc)\n",
    "plt.axis('off')\n",
    "plt.show()\n"
   ]
  },
  {
   "cell_type": "markdown",
   "metadata": {},
   "source": [
    "For more information on graph theory and how it applies to different types of network security analysis, check out the resources below:\n",
    "\n",
    "\"Handbook of graph theory\" - JL Gross, J Yellen - CRC press 2004<br>\n",
    "\"Fast malware classification by automated behavioral graph matching\" - Younghee Park et. al. IEEE, April 2010<br>\n",
    "\"Graph Theory and Cyber Security\" -  Harith A. Dawood - IEEE April, 2015<br>\n"
   ]
  },
  {
   "cell_type": "code",
   "execution_count": null,
   "metadata": {},
   "outputs": [],
   "source": []
  }
 ],
 "metadata": {
  "hide_input": false,
  "kernelspec": {
   "display_name": "Python 3",
   "language": "python",
   "name": "python3"
  },
  "language_info": {
   "codemirror_mode": {
    "name": "ipython",
    "version": 3
   },
   "file_extension": ".py",
   "mimetype": "text/x-python",
   "name": "python",
   "nbconvert_exporter": "python",
   "pygments_lexer": "ipython3",
   "version": "3.7.7"
  }
 },
 "nbformat": 4,
 "nbformat_minor": 2
}
